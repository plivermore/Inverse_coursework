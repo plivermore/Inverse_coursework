{
 "cells": [
  {
   "cell_type": "markdown",
   "metadata": {},
   "source": [
    "# Inverse theory: assessed coursework\n",
    "**Due Wednesday November 15th, 2pm. Turnitin submission folder in \"Assessment and Feedback -> Submit my work\" on Minerva.**\n",
    "\n",
    "**Read these instructions through to the end**\n",
    "\n",
    "The level of water in a reservoir is falling with time. The height of the water, in m, is given by the values in the following table with their measurement uncertainty (i.e. the standard deviation of the measurements estimated from the instrumentation error)."
   ]
  },
  {
   "cell_type": "markdown",
   "metadata": {},
   "source": [
    "| Time in days   |  Height (m)   | Uncertainty (m) | \n",
    "| :------ | ----| ---------:|\n",
    "| 2 | 4.12 |  0.04 |\n",
    "|  3  | 4.02 | 0.035 |\n",
    "|  4 | 3.35 | 0.04 | \n",
    "| 7 | 2.62 | 0.035 |\n",
    "| 10 | 2.52 | 0.03 | \n",
    "| 14 | 2.17 | 0.04 |\n",
    "| 20 | 2.04 | 0.03 |\n",
    "| 30 | 1.85 | 0.025 |\n",
    "\n",
    "\n",
    "The following nonlinear model is proposed:\n",
    "$$ y = A e^{-kt} + B/t$$\n",
    "\n",
    "where $A, k$ and $B$ are unknown constants and $t$ is the time in days.\n",
    "\n",
    "1. Make a plot, fully labelled and titled, of the height against time [1]\n",
    "\n",
    "2. Using the method presented in the lectures, find the best model fit to the given data using nonlinear least squares, assuming that the data are weighted according to their uncertainties: this is the nonlinear analogue of the BLUE. Use the initial guess $[5,0.2,2]$ for the model vector $[A,k,B]$. Display your model vector to the screen.  [4]\n",
    "\n",
    "3. How many iterations do you need to get convergence of all of your model parameters to 4 decimal places?   [2]\n",
    "\n",
    "4. Display your best model (which is a smooth function of time) along with the data on the same figure. The plot should be fully labelled and titled.  [2]\n",
    "\n",
    "5. Your BLUE should lie at a minimum in model space. Confirm that this is so for model parameter A, by plotting the weighted residual sum of the squares against different values of A over a suitable range, assuming that your other parameter values are given by your BLUE. Highlight your optimal value of A to show that it lies at a local minimum. [2]\n",
    "\n",
    "6. Use a bootstrap procedure with 1000 realisations and a seed of 10 for the random number generator (see example code below) to estimate the uncertainty (i.e. the standard deviation) of your BLUE estimate of model parameter $B$. Each realisation should use the initial model guess $[5,0.2,2]$. Display the uncertainty to the screen, along with the associated histogram of the 1000 $B$ parameters. [4]\n",
    "\n",
    "7. Are 1000 realisations enough? Give evidence either for or against. [2] \n",
    "\n",
    "8. Include comments throughout your notebook to describe your workflow in markdown cells.  [3]\n",
    "\n",
    "You may find it helpful to use the outline Python code below.\n",
    "Total number of marks available: 20\n",
    "\n",
    "**Submit your work as a Jupyter notebook, saved as a pdf. (To save it, use File -> Download as ->  PDF via LaTex). If you encounter LaTex errors on saving, check your LaTex and the cell-types (markdown/code/etc) carefully.**\n",
    "\n",
    "**Note that you have access to all of the Python notebooks for the practicals so far - I do not expect you to produce code for this assessment from scratch.  You should include both markdown and Python code cells in your notebook.**\n",
    "\n"
   ]
  },
  {
   "cell_type": "code",
   "execution_count": null,
   "metadata": {},
   "outputs": [],
   "source": []
  },
  {
   "cell_type": "code",
   "execution_count": null,
   "metadata": {},
   "outputs": [],
   "source": []
  },
  {
   "cell_type": "code",
   "execution_count": 2,
   "metadata": {},
   "outputs": [],
   "source": [
    "import matplotlib.pyplot as plt\n",
    "import numpy as np\n",
    "\n",
    "# Here's are the data supplied in the question as vectors\n",
    "d = np.array([4.12, 4.02, 3.35, 2.62, 2.52, 2.17, 2.04, 1.85]) \n",
    "sd = np.array([0.04, 0.035, 0.04, 0.035, 0.03, 0.04, 0.03, 0.025])\n",
    "times = np.array([2,3,4,7,10,14, 20,30])"
   ]
  },
  {
   "cell_type": "markdown",
   "metadata": {},
   "source": [
    "In case you need it, here is how to present an array in markdown:\n",
    "    $$ M =  \\left( \\begin{array}{cc} A & B \\\\ C & D \\end{array} \\right)$$\n",
    "    $$ M =  \\left( \\begin{array}{ccc} A & B &C \\\\ D& E &F \\end{array} \\right)$$"
   ]
  },
  {
   "cell_type": "raw",
   "metadata": {},
   "source": [
    "# An outline of some example code that I suggest you use:\n",
    "\n",
    "def g_calculate(m):\n",
    "    \"\"\"Function that calculates g for given model m\"\"\"\n",
    "    \n",
    "\n",
    "def g_derivatives(m):  \n",
    "    \"\"\"Calculate the matrix of derivatives of g\"\"\"\n",
    "    A = .....\n",
    "    return A\n",
    "\n",
    "\n",
    "def calc_nonlinear_solution (initial_model, N, dvec): \n",
    "    ''' Calculates nonlinear least squares using N iterations, assuming an initial model and a data vector dvec'''\n",
    "    return ...\n",
    "\n",
    "\n",
    "import random\n",
    "random.seed(10)\n",
    "Number_of_models = 1000\n",
    "models_from_bootstrapping = np.zeros((Number_of_models,3))\n",
    "d_new = np.zeros(len(times))\n",
    "for i in range(Number_of_models):\n",
    "    for j in range(len(times)):\n",
    "        d_new[j] = ...\n",
    "    models_from_bootstrapping[i,:] =  #edit\n"
   ]
  },
  {
   "cell_type": "code",
   "execution_count": null,
   "metadata": {},
   "outputs": [],
   "source": []
  }
 ],
 "metadata": {
  "kernelspec": {
   "display_name": "Python 3",
   "language": "python",
   "name": "python3"
  },
  "language_info": {
   "codemirror_mode": {
    "name": "ipython",
    "version": 3
   },
   "file_extension": ".py",
   "mimetype": "text/x-python",
   "name": "python",
   "nbconvert_exporter": "python",
   "pygments_lexer": "ipython3",
   "version": "3.8.5"
  }
 },
 "nbformat": 4,
 "nbformat_minor": 4
}
